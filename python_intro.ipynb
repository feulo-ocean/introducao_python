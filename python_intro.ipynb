{
  "nbformat": 4,
  "nbformat_minor": 0,
  "metadata": {
    "colab": {
      "name": "python_intro.ipynb",
      "provenance": [],
      "collapsed_sections": [],
      "authorship_tag": "ABX9TyMaFhs0USEq+WSDXIQ74yxf",
      "include_colab_link": true
    },
    "kernelspec": {
      "name": "python3",
      "display_name": "Python 3"
    }
  },
  "cells": [
    {
      "cell_type": "markdown",
      "metadata": {
        "id": "view-in-github",
        "colab_type": "text"
      },
      "source": [
        "<a href=\"https://colab.research.google.com/github/feulo-ocean/introducao_python/blob/main/python_intro.ipynb\" target=\"_parent\"><img src=\"https://colab.research.google.com/assets/colab-badge.svg\" alt=\"Open In Colab\"/></a>"
      ]
    },
    {
      "cell_type": "markdown",
      "metadata": {
        "id": "s1YHdkKsLHv0"
      },
      "source": [
        "## Python: Conhecendo a Linguagem\n",
        "\n"
      ]
    },
    {
      "cell_type": "markdown",
      "metadata": {
        "id": "1gApdkqgLXKj"
      },
      "source": [
        "# O que é Programação?"
      ]
    },
    {
      "cell_type": "markdown",
      "metadata": {
        "id": "CO1A_FvGS1ta"
      },
      "source": [
        "## O que é um programa de computador?\n",
        "## O que é um algoritmo?"
      ]
    },
    {
      "cell_type": "markdown",
      "metadata": {
        "id": "DMgkyMTTL19Z"
      },
      "source": [
        "# Um pouco mais Sobre o Python"
      ]
    },
    {
      "cell_type": "markdown",
      "metadata": {
        "id": "tYa8OguAS87U"
      },
      "source": [
        "## O que programar? (aplicações)\n",
        "## Aonde programar? (ambientes)\n",
        "## Como instalar o interpretador? "
      ]
    },
    {
      "cell_type": "markdown",
      "metadata": {
        "id": "6TwoUJstMFLm"
      },
      "source": [
        "# A linguagem (\"Hello World\")"
      ]
    },
    {
      "cell_type": "code",
      "metadata": {
        "id": "C9WsLUJoT0bP",
        "colab": {
          "base_uri": "https://localhost:8080/"
        },
        "outputId": "b9863792-0e93-4ea3-ac94-1062339a308a"
      },
      "source": [
        "print(\"Olá  a todos!\")"
      ],
      "execution_count": 20,
      "outputs": [
        {
          "output_type": "stream",
          "text": [
            "Olá  a todos!\n"
          ],
          "name": "stdout"
        }
      ]
    },
    {
      "cell_type": "markdown",
      "metadata": {
        "id": "DZ7l7kimMJG3"
      },
      "source": [
        "#Tipos de Dados básicos"
      ]
    },
    {
      "cell_type": "code",
      "metadata": {
        "id": "30Z0YovCLGcO",
        "colab": {
          "base_uri": "https://localhost:8080/"
        },
        "outputId": "65d1d33e-bdc5-46b5-80f0-ff9d69b6b278"
      },
      "source": [
        "print(type(2)) # O tipo do número 2 é int (número inteiro)\n",
        "print(type(2.5)) # O tipo do número 2.5 é float (número decimal)\n",
        "print(type(1.5+1.5j)) # O tipo do número 1 + 1j (j é o número imaginário) é complex\n",
        "print(type('O termo esta termoentre aspas\\n')) # Sequencia de caracteres para armazenar texto\n",
        "print(type(True)) # tipo booleano para Verdadeiro (True) e Falso (False)"
      ],
      "execution_count": 21,
      "outputs": [
        {
          "output_type": "stream",
          "text": [
            "<class 'int'>\n",
            "<class 'float'>\n",
            "<class 'complex'>\n",
            "<class 'str'>\n",
            "<class 'bool'>\n"
          ],
          "name": "stdout"
        }
      ]
    },
    {
      "cell_type": "code",
      "metadata": {
        "id": "B8qoPonShEqQ"
      },
      "source": [
        ""
      ],
      "execution_count": null,
      "outputs": []
    },
    {
      "cell_type": "markdown",
      "metadata": {
        "id": "aU6gFhrxM8TS"
      },
      "source": [
        "## Variáveis\n",
        "\n",
        "Uma variável não pode ter o nome comçado por números, eveitmem palavras-chave da linaguagem e caracateres especiais"
      ]
    },
    {
      "cell_type": "code",
      "metadata": {
        "id": "ChunySn1M-oz"
      },
      "source": [
        "altura_do_guilherme = 1.85 # nome_da_variavel = valor\n",
        "texto = \"Hello world\"\n",
        "chovendo = True\n",
        "sabor_bolo = \"de Fubá\""
      ],
      "execution_count": 33,
      "outputs": []
    },
    {
      "cell_type": "code",
      "metadata": {
        "id": "f8oZIuse2f3u",
        "colab": {
          "base_uri": "https://localhost:8080/"
        },
        "outputId": "3e0b6061-95c2-4d01-915a-851615cab65e"
      },
      "source": [
        "print(altura_do_guilherme, texto, chovendo, sabor_bolo)"
      ],
      "execution_count": 38,
      "outputs": [
        {
          "output_type": "stream",
          "text": [
            "1.85 Hello world pra caramba  de Fubá\n"
          ],
          "name": "stdout"
        }
      ]
    },
    {
      "cell_type": "code",
      "metadata": {
        "id": "ksObRn18SRZI"
      },
      "source": [
        "chovendo = \"pra caramba\""
      ],
      "execution_count": 37,
      "outputs": []
    },
    {
      "cell_type": "markdown",
      "metadata": {
        "id": "1NlSUBtMM_7H"
      },
      "source": [
        "## Operações básicas (e nem tão básicas)"
      ]
    },
    {
      "cell_type": "markdown",
      "metadata": {
        "id": "ZTpQVXKzNHtY"
      },
      "source": [
        "### Com dados numéricos"
      ]
    },
    {
      "cell_type": "code",
      "metadata": {
        "id": "-UCzQIB9NF-j",
        "colab": {
          "base_uri": "https://localhost:8080/"
        },
        "outputId": "1e648e6d-e5d3-4e24-ac02-100a91eca894"
      },
      "source": [
        "print(2.5+5j + 1) # o '+' é a soma usual\n",
        "print(10 - 1.5) # o '-' é a subtração usual\n",
        "print(2 * -2) # o '*' é a multiplicação usual\n",
        "print(10 / 3) # o '/' é a divisão usual\n",
        "\n",
        "print(4 ** -0.5) # o '**' é a potenciação\n",
        "print(10 // 4) # o '//' é o quociente da divisão inteira\n",
        "print(10 % 4) # o '%' é o resto da divisão inteiro"
      ],
      "execution_count": 60,
      "outputs": [
        {
          "output_type": "stream",
          "text": [
            "(3.5+5j)\n",
            "8.5\n",
            "-4\n",
            "3.3333333333333335\n",
            "0.5\n",
            "2 éé o texto do lado\n",
            "2\n"
          ],
          "name": "stdout"
        }
      ]
    },
    {
      "cell_type": "markdown",
      "metadata": {
        "id": "Nh39_SevNKtR"
      },
      "source": [
        "### Com dados texto"
      ]
    },
    {
      "cell_type": "code",
      "metadata": {
        "id": "pjuPh9l2N61P",
        "colab": {
          "base_uri": "https://localhost:8080/"
        },
        "outputId": "e3fa15b3-10aa-4058-a385-f86c6d790249"
      },
      "source": [
        "anos = input(\"Digite sua idade: \")\n",
        "frase = \"Ola eu sou Guilherme e tenho \" + anos +\" anos.\" # o '+' é a concatenação de strings\n",
        "print(frase)\n",
        "print(\"repete\" * 3) # o '*' repete a string x vezes onde x é um número inteiro"
      ],
      "execution_count": 67,
      "outputs": [
        {
          "output_type": "stream",
          "text": [
            "Digite sua idade: 123\n",
            "Ola eu sou Guilherme e tenho 123 anos.\n",
            "repeterepeterepete\n"
          ],
          "name": "stdout"
        }
      ]
    },
    {
      "cell_type": "code",
      "metadata": {
        "colab": {
          "base_uri": "https://localhost:8080/",
          "height": 35
        },
        "id": "dEi9baHlTn91",
        "outputId": "6c727f23-c12f-4b91-b73f-352764640f04"
      },
      "source": [
        "(\"oi \" + \"tudo bem \") * 4"
      ],
      "execution_count": null,
      "outputs": [
        {
          "output_type": "execute_result",
          "data": {
            "application/vnd.google.colaboratory.intrinsic+json": {
              "type": "string"
            },
            "text/plain": [
              "'oi tudo bem oi tudo bem oi tudo bem oi tudo bem '"
            ]
          },
          "metadata": {
            "tags": []
          },
          "execution_count": 15
        }
      ]
    },
    {
      "cell_type": "code",
      "metadata": {
        "id": "IcdPs7g9k0YX",
        "colab": {
          "base_uri": "https://localhost:8080/",
          "height": 167
        },
        "outputId": "e7d83756-6a95-46b2-d9c7-b75174b43aad"
      },
      "source": [
        "\"5\" + 5 # não funciona"
      ],
      "execution_count": 73,
      "outputs": [
        {
          "output_type": "error",
          "ename": "TypeError",
          "evalue": "ignored",
          "traceback": [
            "\u001b[0;31m---------------------------------------------------------------------------\u001b[0m",
            "\u001b[0;31mTypeError\u001b[0m                                 Traceback (most recent call last)",
            "\u001b[0;32m<ipython-input-73-069427a49e5a>\u001b[0m in \u001b[0;36m<module>\u001b[0;34m()\u001b[0m\n\u001b[0;32m----> 1\u001b[0;31m \u001b[0;34m\"5\"\u001b[0m \u001b[0;34m+\u001b[0m \u001b[0;36m5\u001b[0m \u001b[0;31m# não funciona\u001b[0m\u001b[0;34m\u001b[0m\u001b[0;34m\u001b[0m\u001b[0m\n\u001b[0m",
            "\u001b[0;31mTypeError\u001b[0m: can only concatenate str (not \"int\") to str"
          ]
        }
      ]
    },
    {
      "cell_type": "markdown",
      "metadata": {
        "id": "yIOzt-VHN8hi"
      },
      "source": [
        "### Com booleanos"
      ]
    },
    {
      "cell_type": "code",
      "metadata": {
        "id": "Cxw63HxZSCLl",
        "colab": {
          "base_uri": "https://localhost:8080/"
        },
        "outputId": "7d26b775-59a7-4499-9416-6d1640e3d17a"
      },
      "source": [
        "False +  False # converte o True para 1 e o False para 0 e faz numericamente"
      ],
      "execution_count": 74,
      "outputs": [
        {
          "output_type": "execute_result",
          "data": {
            "text/plain": [
              "0"
            ]
          },
          "metadata": {
            "tags": []
          },
          "execution_count": 74
        }
      ]
    },
    {
      "cell_type": "code",
      "metadata": {
        "id": "EcB7GNrHN_fQ",
        "colab": {
          "base_uri": "https://localhost:8080/"
        },
        "outputId": "a123d48a-50af-4f52-d2de-2ea7d0a0cc8c"
      },
      "source": [
        "(True + 4 )* False"
      ],
      "execution_count": 76,
      "outputs": [
        {
          "output_type": "execute_result",
          "data": {
            "text/plain": [
              "0"
            ]
          },
          "metadata": {
            "tags": []
          },
          "execution_count": 76
        }
      ]
    },
    {
      "cell_type": "code",
      "metadata": {
        "id": "GIIi8k8pmjUB",
        "colab": {
          "base_uri": "https://localhost:8080/"
        },
        "outputId": "31b503e0-10f1-4228-be48-7d3399910571"
      },
      "source": [
        "# conversão de tipos de Dados\n",
        "\n",
        "string = \"10.5\"\n",
        "numero = float(string)\n",
        "numero + 10"
      ],
      "execution_count": 80,
      "outputs": [
        {
          "output_type": "execute_result",
          "data": {
            "text/plain": [
              "20.5"
            ]
          },
          "metadata": {
            "tags": []
          },
          "execution_count": 80
        }
      ]
    },
    {
      "cell_type": "code",
      "metadata": {
        "colab": {
          "base_uri": "https://localhost:8080/"
        },
        "id": "UWLLlb9_aPl5",
        "outputId": "4e99b7b5-1238-4790-ad4f-fe9504b0f650"
      },
      "source": [
        "a = int(\"104\")\n",
        "a + 1"
      ],
      "execution_count": 82,
      "outputs": [
        {
          "output_type": "execute_result",
          "data": {
            "text/plain": [
              "105"
            ]
          },
          "metadata": {
            "tags": []
          },
          "execution_count": 82
        }
      ]
    },
    {
      "cell_type": "code",
      "metadata": {
        "colab": {
          "base_uri": "https://localhost:8080/"
        },
        "id": "tS3V_KLWabI9",
        "outputId": "d46a98ec-e464-4eb4-e2c8-48a21958f2ce"
      },
      "source": [
        "int(True)"
      ],
      "execution_count": 86,
      "outputs": [
        {
          "output_type": "execute_result",
          "data": {
            "text/plain": [
              "1"
            ]
          },
          "metadata": {
            "tags": []
          },
          "execution_count": 86
        }
      ]
    },
    {
      "cell_type": "code",
      "metadata": {
        "colab": {
          "base_uri": "https://localhost:8080/",
          "height": 35
        },
        "id": "h1Im3kkaVyEO",
        "outputId": "d8db4c8f-4010-47d5-b791-7d92befebf70"
      },
      "source": [
        "a= 10.5\n",
        "str(a)"
      ],
      "execution_count": 83,
      "outputs": [
        {
          "output_type": "execute_result",
          "data": {
            "application/vnd.google.colaboratory.intrinsic+json": {
              "type": "string"
            },
            "text/plain": [
              "'10.5'"
            ]
          },
          "metadata": {
            "tags": []
          },
          "execution_count": 83
        }
      ]
    },
    {
      "cell_type": "code",
      "metadata": {
        "id": "ZXpfLxgOiwas",
        "colab": {
          "base_uri": "https://localhost:8080/"
        },
        "outputId": "dabcb270-6216-46cb-b34f-04f7f5855d07"
      },
      "source": [
        "### Escreva uma sequência de operações em python que converta um valor em real para dólar\n",
        "\n",
        "## Escreva uma sequência de operações em python que converta um valor em dólar para real"
      ],
      "execution_count": null,
      "outputs": [
        {
          "output_type": "stream",
          "text": [
            "Digite o valor em reais: 5.62\n",
            "O valor é $ 1.00 dolar\n"
          ],
          "name": "stdout"
        }
      ]
    },
    {
      "cell_type": "code",
      "metadata": {
        "id": "4TMp9tEvW30k"
      },
      "source": [
        "## Exercicio Conversão de Celsius para Farenheit\n",
        "\n",
        "##  C * 9/5  + 32 = F "
      ],
      "execution_count": null,
      "outputs": []
    },
    {
      "cell_type": "markdown",
      "metadata": {
        "id": "Y19Z_OGlRlSE"
      },
      "source": [
        "# Desvios condicionais"
      ]
    },
    {
      "cell_type": "markdown",
      "metadata": {
        "id": "5G2rYzuzRrOL"
      },
      "source": [
        "if condicao:\n",
        "  codigo para executar quando a consiçãão for verdadeira\n",
        "  mais codigo\n",
        "  mais codigo\n",
        "outros códigos que não dependem da condição"
      ]
    },
    {
      "cell_type": "code",
      "metadata": {
        "id": "1OjGyX-is8U-",
        "colab": {
          "base_uri": "https://localhost:8080/"
        },
        "outputId": "971ea30d-77d2-4ba1-b265-61e4bb1c8932"
      },
      "source": [
        "print('executa antes do if')\n",
        "if True:\n",
        "  print('Era verdadeira')\n",
        "  print('Outro Texto dentro do if')\n",
        "print('Imprimo independente do if')"
      ],
      "execution_count": null,
      "outputs": [
        {
          "output_type": "stream",
          "text": [
            "executa antes do if\n",
            "Outro Texto dentro do if\n",
            "Imprimo independente do if\n"
          ],
          "name": "stdout"
        }
      ]
    },
    {
      "cell_type": "code",
      "metadata": {
        "id": "7DBV1KJYvjkB",
        "colab": {
          "base_uri": "https://localhost:8080/"
        },
        "outputId": "7dd0592b-a796-4c5a-bca9-1696a4f53316"
      },
      "source": [
        "# Operadores de Comparação \n",
        "\n",
        "print(\"3 == 2:\", 3 == 2) # '==' representa igualdade \n",
        "print('\"texto\" == \"texto\":', \"texto\" == \"texto\")\n",
        "print('\"2.34\" == 2.34:', \"2.34\" == 2.34)\n",
        "variavel = '5.78'\n",
        "print(\"variavel == 5.78:\", variavel == '5.78')\n",
        "\n",
        "print(\"2 > 3:\", 2 > 3) # '>' verifica se o número a esquerda do símbolo é maior que o da direita\n",
        "print(\"2 > 2:\", 2 > 2)\n",
        "print(\"2 < 3:\", 2 < 3) # '<' verifica se o número a esquerda do símbolo é menor que o da direita\n",
        "print(\"2 < 2:\", 2 < 2)\n",
        "\n",
        "print(\"2 >= 3:\", 2 >= 3) # '>=' verifica se o número a esquerda do símbolo é maior ou igual que o da direita\n",
        "print(\"2 >= 2:\", 2 >= 2)\n",
        "print(\"2 <= 3:\", 2 <= 3) # '<=' verifica se o número a esquerda do símbolo é menor ou igual que o da direita\n",
        "print(\"2 <= 2:\", 2 <= 2)\n",
        "\n",
        "print(\"3 != 2:\", 3 != 2) # '!=' verifica se os números são diferentes \n",
        "print(\"2 != 2:\", 2 != 2) # '!=' verifica se os números são diferentes "
      ],
      "execution_count": null,
      "outputs": [
        {
          "output_type": "stream",
          "text": [
            "3 == 2: False\n",
            "\"texto\" == \"texto\": True\n",
            "\"2.34\" == 2.34: False\n",
            "variavel == 5.78: True\n",
            "2 > 3: False\n",
            "2 > 2: False\n",
            "2 < 3: True\n",
            "2 < 2: False\n",
            "2 >= 3: False\n",
            "2 >= 2: True\n",
            "2 <= 3: True\n",
            "2 <= 2: True\n",
            "3 != 2: True\n",
            "2 != 2: False\n"
          ],
          "name": "stdout"
        }
      ]
    },
    {
      "cell_type": "code",
      "metadata": {
        "id": "Aw2iw7Kdyhyq",
        "colab": {
          "base_uri": "https://localhost:8080/"
        },
        "outputId": "da9bcf2c-57ab-4f93-b88b-4fb2342de281"
      },
      "source": [
        "# a*x² + b*x + c = 0\n",
        "\n",
        "# x² - x + 1 = 0 -> delta = -3 < 0\n",
        "# x² +2x + 1 = 0 -> delta = 0\n",
        "# x^2 - 4x = 0 - > delta = 16 > 0\n",
        "\n",
        "# le os dados de entrada\n",
        "a = float(input(\"Digite o valor de a: \"))\n",
        "b = float(input(\"Digite o valor de b: \"))\n",
        "c = float(input(\"digite o valor de c: \"))\n",
        "\n",
        "\n",
        "print(f\"O problema que você quer resolver é: {a}x² + {b}x + {c} = 0\")\n",
        "# Calcula o Delta\n",
        "\n",
        "delta = b * b - 4 * a * c\n",
        "print(f\"Delta é igual a: {delta:.3f}\")\n",
        "\n",
        "if delta > 0:\n",
        "  x1 = (-b + delta ** 0.5)/(2 * a)\n",
        "  x2 = (-b - delta ** 0.5)/(2 * a)\n",
        "  print(f\"O problema tem 2 soluções: {x1:.3f} e {x2:.3f}\")\n",
        "\n",
        "elif delta < 0:\n",
        "  print(\"O problema não tem soluções reais\")\n",
        "\n",
        "else:\n",
        "  x = (-b + delta ** 0.5)/(2 * a)\n",
        "  print(f\"O problema possui apenas uma solução: {x}\")"
      ],
      "execution_count": null,
      "outputs": [
        {
          "output_type": "stream",
          "text": [
            "Digite o valor de a: 1\n",
            "Digite o valor de b: 2\n",
            "digite o valor de c: 1\n",
            "O problema que você quer resolver é: 1.0x² + 2.0x + 1.0 = 0\n",
            "Delta é igual a: 0.000\n",
            "O problema possui apenas uma solução: -1.0\n"
          ],
          "name": "stdout"
        }
      ]
    },
    {
      "cell_type": "code",
      "metadata": {
        "id": "yhmC1YFR1ZOf",
        "colab": {
          "base_uri": "https://localhost:8080/"
        },
        "outputId": "2df8f668-4423-46ce-d6b9-7827dbf2ceff"
      },
      "source": [
        "##  Carro flex \n",
        "\n",
        "## se o valor etanol dor maior que 70% do valor do valor gasolina -> gasolina\n",
        "## se o valor do etanol for menor ou igual a 70% do valor gasolina -> etanol\n",
        "\n",
        "\n",
        "#gasolina, etanol = 4, 1 # etanol\n",
        "#gasolina, etanol = 4, 3 # gasolina\n",
        "#gasolina, etanol = 10, 7 # etanol\n",
        "#gasolina, etanol = 10, 7.0000000001"
      ],
      "execution_count": null,
      "outputs": [
        {
          "output_type": "stream",
          "text": [
            "Gasolina\n"
          ],
          "name": "stdout"
        }
      ]
    },
    {
      "cell_type": "code",
      "metadata": {
        "id": "q_iWTDnJzC8S"
      },
      "source": [
        ""
      ],
      "execution_count": null,
      "outputs": []
    },
    {
      "cell_type": "markdown",
      "metadata": {
        "id": "zGNPUq9q3AYn"
      },
      "source": [
        "### Exercicio\n",
        "dada a tabela o IR, faça um programa que recebe o salário de um trabalhador e devolve o valor do imposto.\n",
        "\n",
        "|Base de cálculo (R$)\t|Alíquota (%)|\n",
        "--------------------- |-------------|\n",
        "|Abaixo de 1.903,99    | 0%  |\n",
        "|De 1.903,99 até 2.826,65|\t7,5%\t|\n",
        "|De 2.826,66 até 3.751,05|\t15%\t|\n",
        "|De 3.751,06 até 4.664,68|\t22,5%\t|\n",
        "|Acima de 4.664,68|\t27,5%|"
      ]
    },
    {
      "cell_type": "code",
      "metadata": {
        "id": "HKHvlmmN37VH"
      },
      "source": [
        ""
      ],
      "execution_count": null,
      "outputs": []
    },
    {
      "cell_type": "markdown",
      "metadata": {
        "id": "t_3jPIRCRuLl"
      },
      "source": [
        "# Laços de repetição"
      ]
    },
    {
      "cell_type": "markdown",
      "metadata": {
        "id": "e7KoKb_pR0Qa"
      },
      "source": [
        "## While (enquanto)"
      ]
    },
    {
      "cell_type": "markdown",
      "metadata": {
        "id": "aMCzwTRfvESf"
      },
      "source": [
        "while condição:\n",
        "  executa código para a condição verdadeira"
      ]
    },
    {
      "cell_type": "code",
      "metadata": {
        "id": "vLwOuQHdSBhV",
        "colab": {
          "base_uri": "https://localhost:8080/"
        },
        "outputId": "170a4c86-bcb2-475e-9452-89fce2d381eb"
      },
      "source": [
        "numero = 1 # inicialização\n",
        "\n",
        "while numero <= 10: # a condiçãão é verdadeira\n",
        "  print(numero)\n",
        "  numero = numero + 5 # atualiza a condiçãão\n",
        "print('terminou')\n"
      ],
      "execution_count": null,
      "outputs": [
        {
          "output_type": "stream",
          "text": [
            "1\n",
            "6\n",
            "terminou\n"
          ],
          "name": "stdout"
        }
      ]
    },
    {
      "cell_type": "code",
      "metadata": {
        "colab": {
          "base_uri": "https://localhost:8080/"
        },
        "id": "4BsdnkpXwlP4",
        "outputId": "519206fb-dbb9-4269-c42e-65fca1060db9"
      },
      "source": [
        "numero = 0\n",
        "\n",
        "\n",
        "while numero <= 10:\n",
        "  print(numero, end=\" \")\n",
        "  numero = numero + 1\n"
      ],
      "execution_count": null,
      "outputs": [
        {
          "output_type": "stream",
          "text": [
            "0 1 2 3 4 5 6 7 8 9 10 "
          ],
          "name": "stdout"
        }
      ]
    },
    {
      "cell_type": "code",
      "metadata": {
        "colab": {
          "base_uri": "https://localhost:8080/"
        },
        "id": "JOHNNi2e1YMK",
        "outputId": "6bf59b26-fe49-40ee-c588-836cfb812f86"
      },
      "source": [
        "base = 2\n",
        "expoente = 3\n",
        "\n",
        "resultado = 1\n",
        "while expoente > 0:\n",
        "  resultado = resultado * base\n",
        "  expoente = expoente - 1\n",
        "\n",
        "print(resultado)\n"
      ],
      "execution_count": null,
      "outputs": [
        {
          "output_type": "stream",
          "text": [
            "8\n"
          ],
          "name": "stdout"
        }
      ]
    },
    {
      "cell_type": "code",
      "metadata": {
        "id": "eUk0gZqw3m6-",
        "colab": {
          "base_uri": "https://localhost:8080/"
        },
        "outputId": "a9f0e418-2feb-4bba-b86f-dddccfcaded3"
      },
      "source": [
        "## Le números o usuário até ele digitar o numero -1 (ok)\n",
        "## calcula a média dos números digitados\n",
        "\n",
        "\n",
        "\n",
        "lista_de_notas = le_numeros()\n",
        "if len(lista_de_notas) == 0:\n",
        "  print('não posso calcular média de 0 notas')\n",
        "else:\n",
        "  print(f\"A média dos numero é: {calcula_media(lista_de_notas)}\")"
      ],
      "execution_count": null,
      "outputs": [
        {
          "output_type": "stream",
          "text": [
            "digite um número ou 0 para parar: 2\n",
            "digite um número ou 0 para parar: 4\n",
            "digite um número ou 0 para parar: 0\n",
            "A média dos numero é: 3.0\n"
          ],
          "name": "stdout"
        }
      ]
    },
    {
      "cell_type": "markdown",
      "metadata": {
        "id": "Vs5AG3tpR5Tg"
      },
      "source": [
        "2\n",
        "## For (para cada)"
      ]
    },
    {
      "cell_type": "code",
      "metadata": {
        "id": "ExWJ18MCSEfC",
        "colab": {
          "base_uri": "https://localhost:8080/"
        },
        "outputId": "a8658631-4207-4262-bfd2-fbe83ecbe5e2"
      },
      "source": [
        "for i in [5 , \"texto\", 2 , -1, 4.56, True]:\n",
        "  print(\"a variável i vale:\", i)\n"
      ],
      "execution_count": null,
      "outputs": [
        {
          "output_type": "stream",
          "text": [
            "a variável i vale: 5\n",
            "a variável i vale: texto\n",
            "a variável i vale: 2\n",
            "a variável i vale: -1\n",
            "a variável i vale: 4.56\n",
            "a variável i vale: True\n"
          ],
          "name": "stdout"
        }
      ]
    },
    {
      "cell_type": "markdown",
      "metadata": {
        "id": "Z0X8VVoXOBdl"
      },
      "source": [
        "# Coleções de dados"
      ]
    },
    {
      "cell_type": "markdown",
      "metadata": {
        "id": "UaUM36SEOLB9"
      },
      "source": [
        "### Listas"
      ]
    },
    {
      "cell_type": "code",
      "metadata": {
        "id": "E9iNXUgHOEBt"
      },
      "source": [
        "lista = [0,2,4,5, 67, 89]"
      ],
      "execution_count": null,
      "outputs": []
    },
    {
      "cell_type": "code",
      "metadata": {
        "colab": {
          "base_uri": "https://localhost:8080/"
        },
        "id": "JT_mvQMqfCuG",
        "outputId": "60e75b35-72e0-471e-fd69-21288d19091c"
      },
      "source": [
        "# acessar um elemento da lista\n",
        "print(lista[4])"
      ],
      "execution_count": null,
      "outputs": [
        {
          "output_type": "stream",
          "text": [
            "67\n"
          ],
          "name": "stdout"
        }
      ]
    },
    {
      "cell_type": "code",
      "metadata": {
        "colab": {
          "base_uri": "https://localhost:8080/"
        },
        "id": "bKMMhlezgVy1",
        "outputId": "325a9d02-298e-4e8a-c80e-95c30eaa46ea"
      },
      "source": [
        "lista[4] = 10\n",
        "print(lista)"
      ],
      "execution_count": null,
      "outputs": [
        {
          "output_type": "stream",
          "text": [
            "[0, 2, 4, 5, 10, 89]\n"
          ],
          "name": "stdout"
        }
      ]
    },
    {
      "cell_type": "code",
      "metadata": {
        "id": "1ndUtTowh2mh"
      },
      "source": [
        "lista.append(98)"
      ],
      "execution_count": null,
      "outputs": []
    },
    {
      "cell_type": "code",
      "metadata": {
        "id": "r5CR8Nf8jZ1T"
      },
      "source": [
        "lista.insert(4, 12)"
      ],
      "execution_count": null,
      "outputs": []
    },
    {
      "cell_type": "code",
      "metadata": {
        "colab": {
          "base_uri": "https://localhost:8080/"
        },
        "id": "H0hTNmjBjO_V",
        "outputId": "ccce768e-4bd1-48ec-ff04-516ac1b052e4"
      },
      "source": [
        "print(lista)"
      ],
      "execution_count": null,
      "outputs": [
        {
          "output_type": "stream",
          "text": [
            "[0, 2, 4, 5, 12, 10, 89, 51, 98, 4]\n"
          ],
          "name": "stdout"
        }
      ]
    },
    {
      "cell_type": "code",
      "metadata": {
        "colab": {
          "base_uri": "https://localhost:8080/"
        },
        "id": "h__sJQrikHRK",
        "outputId": "e98d39d0-0df0-4e7e-eba7-ca5947f77402"
      },
      "source": [
        "deletado = lista.pop(7)\n",
        "print(lista)\n",
        "print(deletado)"
      ],
      "execution_count": null,
      "outputs": [
        {
          "output_type": "stream",
          "text": [
            "[0, 2, 4, 5, 12, 10, 51, 4]\n",
            "98\n"
          ],
          "name": "stdout"
        }
      ]
    },
    {
      "cell_type": "code",
      "metadata": {
        "colab": {
          "base_uri": "https://localhost:8080/"
        },
        "id": "mEE7KfNUk0p-",
        "outputId": "22726258-e2c1-4d9f-a27a-fab36038c97c"
      },
      "source": [
        "lista2 = []\n",
        "print(lista2)"
      ],
      "execution_count": null,
      "outputs": [
        {
          "output_type": "stream",
          "text": [
            "[]\n"
          ],
          "name": "stdout"
        }
      ]
    },
    {
      "cell_type": "code",
      "metadata": {
        "colab": {
          "base_uri": "https://localhost:8080/"
        },
        "id": "YgN8i0nqk69w",
        "outputId": "29b84cbd-fcd8-4f9b-b531-e3ad53ac26dd"
      },
      "source": [
        "lista2.append(\"hello\")\n",
        "print(lista2)"
      ],
      "execution_count": null,
      "outputs": [
        {
          "output_type": "stream",
          "text": [
            "['Olá', 'hello']\n"
          ],
          "name": "stdout"
        }
      ]
    },
    {
      "cell_type": "code",
      "metadata": {
        "colab": {
          "base_uri": "https://localhost:8080/"
        },
        "id": "pbMhevG7p4sj",
        "outputId": "302c3f8b-20a8-4205-ba4a-e7832ede5cd6"
      },
      "source": [
        "len(lista)"
      ],
      "execution_count": null,
      "outputs": [
        {
          "output_type": "execute_result",
          "data": {
            "text/plain": [
              "8"
            ]
          },
          "metadata": {
            "tags": []
          },
          "execution_count": 58
        }
      ]
    },
    {
      "cell_type": "markdown",
      "metadata": {
        "id": "-NL7Brd7OXQK"
      },
      "source": [
        "## Dicionários"
      ]
    },
    {
      "cell_type": "code",
      "metadata": {
        "id": "3KvZ1YQWhQ22"
      },
      "source": [
        "dicionario = {'nome': 'Guilherme', 'matricula': 123456, 'cpf': 0000000, 'notas': {'matematica': [8, 9, 10], 'portugues': [7, 5]} }"
      ],
      "execution_count": null,
      "outputs": []
    },
    {
      "cell_type": "code",
      "metadata": {
        "id": "r4EImW7MSHBz",
        "colab": {
          "base_uri": "https://localhost:8080/"
        },
        "outputId": "62b1d9d4-32b2-4237-f591-d49ef2449281"
      },
      "source": [
        "dicionario['notas']['matematica'][1]"
      ],
      "execution_count": null,
      "outputs": [
        {
          "output_type": "execute_result",
          "data": {
            "text/plain": [
              "9"
            ]
          },
          "metadata": {
            "tags": []
          },
          "execution_count": 74
        }
      ]
    },
    {
      "cell_type": "code",
      "metadata": {
        "colab": {
          "base_uri": "https://localhost:8080/",
          "height": 167
        },
        "id": "jYfLoqQ7wJK1",
        "outputId": "1fd16301-bfe6-42a9-dd58-72b4a7adbc75"
      },
      "source": [
        "dicionario['rg']"
      ],
      "execution_count": null,
      "outputs": [
        {
          "output_type": "error",
          "ename": "KeyError",
          "evalue": "ignored",
          "traceback": [
            "\u001b[0;31m---------------------------------------------------------------------------\u001b[0m",
            "\u001b[0;31mKeyError\u001b[0m                                  Traceback (most recent call last)",
            "\u001b[0;32m<ipython-input-76-93fef11ba15e>\u001b[0m in \u001b[0;36m<module>\u001b[0;34m()\u001b[0m\n\u001b[0;32m----> 1\u001b[0;31m \u001b[0mdicionario\u001b[0m\u001b[0;34m[\u001b[0m\u001b[0;34m'rg'\u001b[0m\u001b[0;34m]\u001b[0m\u001b[0;34m\u001b[0m\u001b[0;34m\u001b[0m\u001b[0m\n\u001b[0m",
            "\u001b[0;31mKeyError\u001b[0m: 'rg'"
          ]
        }
      ]
    },
    {
      "cell_type": "code",
      "metadata": {
        "id": "dwvyXg7JwVmN"
      },
      "source": [
        "dicionario['notas'] = 0"
      ],
      "execution_count": null,
      "outputs": []
    },
    {
      "cell_type": "code",
      "metadata": {
        "id": "-t4urkKQxAdC"
      },
      "source": [
        "dicionario['altura'] = 1.8"
      ],
      "execution_count": null,
      "outputs": []
    },
    {
      "cell_type": "code",
      "metadata": {
        "id": "ezhBQbhbx0X9"
      },
      "source": [
        "dicionario[3] = True"
      ],
      "execution_count": null,
      "outputs": []
    },
    {
      "cell_type": "code",
      "metadata": {
        "colab": {
          "base_uri": "https://localhost:8080/",
          "height": 167
        },
        "id": "uFsDaKMRx9Vo",
        "outputId": "11a5b8db-19db-42f2-c506-f426a630fa09"
      },
      "source": [
        "dicionario['3']"
      ],
      "execution_count": null,
      "outputs": [
        {
          "output_type": "error",
          "ename": "KeyError",
          "evalue": "ignored",
          "traceback": [
            "\u001b[0;31m---------------------------------------------------------------------------\u001b[0m",
            "\u001b[0;31mKeyError\u001b[0m                                  Traceback (most recent call last)",
            "\u001b[0;32m<ipython-input-87-9f9021fa902f>\u001b[0m in \u001b[0;36m<module>\u001b[0;34m()\u001b[0m\n\u001b[0;32m----> 1\u001b[0;31m \u001b[0mdicionario\u001b[0m\u001b[0;34m[\u001b[0m\u001b[0;34m'3'\u001b[0m\u001b[0;34m]\u001b[0m\u001b[0;34m\u001b[0m\u001b[0;34m\u001b[0m\u001b[0m\n\u001b[0m",
            "\u001b[0;31mKeyError\u001b[0m: '3'"
          ]
        }
      ]
    },
    {
      "cell_type": "code",
      "metadata": {
        "colab": {
          "base_uri": "https://localhost:8080/"
        },
        "id": "ohVSbezpwa1i",
        "outputId": "545cb5d4-8269-47d7-9592-57e4371141b2"
      },
      "source": [
        "print(dicionario)"
      ],
      "execution_count": null,
      "outputs": [
        {
          "output_type": "stream",
          "text": [
            "{'nome': 'Guilherme', 'matricula': 123456, 'cpf': 987654, 'notas': 0, 'altura': 1.8, 3: True}\n"
          ],
          "name": "stdout"
        }
      ]
    },
    {
      "cell_type": "code",
      "metadata": {
        "colab": {
          "base_uri": "https://localhost:8080/"
        },
        "id": "qSiLNr2lyHjU",
        "outputId": "b6ab1701-3a82-484a-c5f8-2b177b189e86"
      },
      "source": [
        "for nome1, nome2 in dicionario.items():\n",
        "  print(nome1, nome2)"
      ],
      "execution_count": null,
      "outputs": [
        {
          "output_type": "stream",
          "text": [
            "nome Guilherme\n",
            "matricula 123456\n",
            "cpf 987654\n",
            "notas 0\n",
            "altura 1.8\n",
            "3 True\n"
          ],
          "name": "stdout"
        }
      ]
    },
    {
      "cell_type": "markdown",
      "metadata": {
        "id": "DKE8lbKVT670"
      },
      "source": [
        "## Tuplas"
      ]
    },
    {
      "cell_type": "code",
      "metadata": {
        "id": "p8xl5azdT9sy"
      },
      "source": [
        "t = (1,2, 3)\n"
      ],
      "execution_count": null,
      "outputs": []
    },
    {
      "cell_type": "code",
      "metadata": {
        "colab": {
          "base_uri": "https://localhost:8080/",
          "height": 167
        },
        "id": "h1Q4qUbu1w-c",
        "outputId": "9de60f7f-ba55-49fa-c325-d52346ae3b5d"
      },
      "source": [
        "t[0] = 10"
      ],
      "execution_count": null,
      "outputs": [
        {
          "output_type": "error",
          "ename": "TypeError",
          "evalue": "ignored",
          "traceback": [
            "\u001b[0;31m---------------------------------------------------------------------------\u001b[0m",
            "\u001b[0;31mTypeError\u001b[0m                                 Traceback (most recent call last)",
            "\u001b[0;32m<ipython-input-97-88963aa635fa>\u001b[0m in \u001b[0;36m<module>\u001b[0;34m()\u001b[0m\n\u001b[0;32m----> 1\u001b[0;31m \u001b[0mt\u001b[0m\u001b[0;34m[\u001b[0m\u001b[0;36m0\u001b[0m\u001b[0;34m]\u001b[0m \u001b[0;34m=\u001b[0m \u001b[0;36m10\u001b[0m\u001b[0;34m\u001b[0m\u001b[0;34m\u001b[0m\u001b[0m\n\u001b[0m",
            "\u001b[0;31mTypeError\u001b[0m: 'tuple' object does not support item assignment"
          ]
        }
      ]
    },
    {
      "cell_type": "markdown",
      "metadata": {
        "id": "68aRt2zTT-Vq"
      },
      "source": [
        "## Muitas outras coleções!"
      ]
    },
    {
      "cell_type": "code",
      "metadata": {
        "id": "40XD_ZpD1we9"
      },
      "source": [
        ""
      ],
      "execution_count": null,
      "outputs": []
    },
    {
      "cell_type": "markdown",
      "metadata": {
        "id": "lGl4nOxCSHgX"
      },
      "source": [
        "# Funções"
      ]
    },
    {
      "cell_type": "markdown",
      "metadata": {
        "id": "cfLR7Q05OHzK"
      },
      "source": [
        ""
      ]
    },
    {
      "cell_type": "code",
      "metadata": {
        "id": "5lsvSsB-2wV4"
      },
      "source": [
        "def diz_ola():\n",
        "  print('Olá')\n",
        "  print('tudo bem?')\n",
        "  print('outro print')"
      ],
      "execution_count": null,
      "outputs": []
    },
    {
      "cell_type": "code",
      "metadata": {
        "id": "5ZP6DJz23AzZ"
      },
      "source": [
        "def le_numeros():\n",
        "  lista_de_notas = []\n",
        "  nota = float(input(\"digite um número ou 0 para parar: \")) # inicialização\n",
        "  while nota != 0: # enquanto a condição for verdadeira\n",
        "    lista_de_notas.append(nota)\n",
        "    nota = float(input(\"digite um número ou 0 para parar: \")) # atualização\n",
        "  return lista_de_notas\n"
      ],
      "execution_count": null,
      "outputs": []
    },
    {
      "cell_type": "code",
      "metadata": {
        "id": "j6Bn4g_d4oQl"
      },
      "source": [
        "def calcula_media(lista_para_calcular):\n",
        "  soma = 0\n",
        "  for elem in lista_para_calcular:\n",
        "    soma = soma + elem\n",
        "  return soma/len(lista_para_calcular)"
      ],
      "execution_count": null,
      "outputs": []
    },
    {
      "cell_type": "code",
      "metadata": {
        "colab": {
          "base_uri": "https://localhost:8080/"
        },
        "id": "MgMO85Eq3Hpa",
        "outputId": "1fbeaee3-bb6e-4338-ed4b-40029596d155"
      },
      "source": [
        "minha_lista = le_numeros()"
      ],
      "execution_count": null,
      "outputs": [
        {
          "output_type": "stream",
          "text": [
            "digite um número ou -1 para parar: 2\n",
            "digite um número ou -1 para parar: 5\n",
            "digite um número ou -1 para parar: 8\n",
            "digite um número ou -1 para parar: -1\n"
          ],
          "name": "stdout"
        }
      ]
    },
    {
      "cell_type": "code",
      "metadata": {
        "colab": {
          "base_uri": "https://localhost:8080/"
        },
        "id": "7FW0srjg3Puh",
        "outputId": "22dc04fd-0526-4df9-c261-f1372fb69cde"
      },
      "source": [
        "minha_lista"
      ],
      "execution_count": null,
      "outputs": [
        {
          "output_type": "execute_result",
          "data": {
            "text/plain": [
              "[2.0, 5.0, 8.0]"
            ]
          },
          "metadata": {
            "tags": []
          },
          "execution_count": 108
        }
      ]
    },
    {
      "cell_type": "code",
      "metadata": {
        "id": "oj12ZUG34A43"
      },
      "source": [
        "import math"
      ],
      "execution_count": null,
      "outputs": []
    },
    {
      "cell_type": "code",
      "metadata": {
        "colab": {
          "base_uri": "https://localhost:8080/"
        },
        "id": "ymz7LDzN6yvf",
        "outputId": "b52e878e-23cf-46cc-83f8-850f1dae0873"
      },
      "source": [
        "math.sin(5)"
      ],
      "execution_count": null,
      "outputs": [
        {
          "output_type": "execute_result",
          "data": {
            "text/plain": [
              "-0.9589242746631385"
            ]
          },
          "metadata": {
            "tags": []
          },
          "execution_count": 119
        }
      ]
    },
    {
      "cell_type": "code",
      "metadata": {
        "id": "k8pz3Txb63Qy"
      },
      "source": [
        ""
      ],
      "execution_count": null,
      "outputs": []
    },
    {
      "cell_type": "code",
      "metadata": {
        "colab": {
          "base_uri": "https://localhost:8080/"
        },
        "id": "EWSrorkq7Yk2",
        "outputId": "9a593de3-a529-4228-9089-1bb193d9a1d3"
      },
      "source": [
        "math.pi"
      ],
      "execution_count": null,
      "outputs": [
        {
          "output_type": "execute_result",
          "data": {
            "text/plain": [
              "3.141592653589793"
            ]
          },
          "metadata": {
            "tags": []
          },
          "execution_count": 125
        }
      ]
    },
    {
      "cell_type": "code",
      "metadata": {
        "id": "dr5_M5qy7s7O"
      },
      "source": [
        ""
      ],
      "execution_count": null,
      "outputs": []
    }
  ]
}